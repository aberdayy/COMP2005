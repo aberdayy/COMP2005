{
  "nbformat": 4,
  "nbformat_minor": 0,
  "metadata": {
    "colab": {
      "provenance": [],
      "include_colab_link": true
    },
    "kernelspec": {
      "name": "python3",
      "display_name": "Python 3"
    },
    "language_info": {
      "name": "python"
    }
  },
  "cells": [
    {
      "cell_type": "markdown",
      "metadata": {
        "id": "view-in-github",
        "colab_type": "text"
      },
      "source": [
        "<a href=\"https://colab.research.google.com/github/aberdayy/COMP2005/blob/main/week9Lab.ipynb\" target=\"_parent\"><img src=\"https://colab.research.google.com/assets/colab-badge.svg\" alt=\"Open In Colab\"/></a>"
      ]
    },
    {
      "cell_type": "markdown",
      "source": [
        "##Game Programming\n",
        "Define a class Warrior with attributes strength and health. Define behaviour attack and defense.\n",
        "- Attack multiplies strength with a random number and returns result\n",
        "- Defense gets an argument attack_strength and decrements health with this value\n",
        "\n",
        "Define an additional method is_alive which returns True if health > 0\n",
        "\n"
      ],
      "metadata": {
        "id": "FP-qP0m2z-Qp"
      }
    },
    {
      "cell_type": "markdown",
      "source": [
        "Define Red, a subclass of Warrior with an additional attibute magic_power and override attack method to increase the attack strength by magic_power multiplied by a random number\n",
        "\n",
        "Define Blue, a subclass of Warrior with an additional attibute heal_power and override defense method to increase the health by heal multiplied by a random number\n",
        "\n"
      ],
      "metadata": {
        "id": "o8BJfn2S0xBa"
      }
    },
    {
      "cell_type": "markdown",
      "source": [
        "Define a function with 2 arguments, where each argument is a dictionary and each dictionary has default values for creating objects of Red and Blue classes.\n",
        "In the body of the function, create objects and start a war between them. War should be turn based and end when one of the characters dies. Print attack info for each turn and declare the winner at the end.  "
      ],
      "metadata": {
        "id": "QMjAgDIt2C6j"
      }
    },
    {
      "cell_type": "code",
      "source": [
        "class Warrior:\n",
        "  def __init__(self, strength = 0, health = 0):\n",
        "    self.strength = strength\n",
        "    self.health   = health\n",
        "  def set_strength(self, strength):\n",
        "    self.strength = strength\n",
        "  def get_strength(self):\n",
        "    return self.strength\n",
        "  def set_health(self, health):\n",
        "    self.health = health\n",
        "  def get_health(self):\n",
        "    return self.health\n",
        "  def attack(self):\n",
        "    return random.randint(1, self.get_strength())\n",
        "  def defense(self, strength):\n",
        "    self.set_health(self.get_health()-strength)\n",
        "  def is_alive(self):\n",
        "    return self.get_health()>0\n",
        "  def get_character(self):\n",
        "    pass\n",
        "  def __str__(self):\n",
        "    return self.get_character() + \" with Strength \" + str(self.get_strength()) +  \", Health: \" + str(self.get_health())\n",
        "\n",
        "class Red(Warrior):\n",
        "  def __init__(self, strength = 0, health = 0, magic_power = 0):\n",
        "    super().__init__(strength, health)\n",
        "    self.magic_power = magic_power\n",
        "  def set_magic_power(self, power):\n",
        "    self.magic_power = power\n",
        "  def get_magic_power(self):\n",
        "    return self.magic_power\n",
        "  def attack(self):\n",
        "    return super().attack() + random.randint(1, self.get_magic_power())\n",
        "  def get_character(self):\n",
        "    return \"Red Warrior\"\n",
        "  def __str__(self):\n",
        "    return super().__str__() + \" and Magic Power: \" + str(self.get_magic_power())\n",
        "\n",
        "class Blue(Warrior):\n",
        "  def __init__(self, strength = 0, health = 0, heal_power = 0):\n",
        "    super().__init__(strength, health)\n",
        "    self.heal_power = heal_power\n",
        "  def set_heal_power(self, power):\n",
        "    self.heal_power = power\n",
        "  def get_heal_power(self):\n",
        "    return self.heal_power\n",
        "  def defense(self, strength):\n",
        "    super().set_health(strength - random.randint(1, self.get_heal_power()))\n",
        "  def get_character(self):\n",
        "    return \"Blue Warrior\"\n",
        "  def __str__(self):\n",
        "    return super().__str__() + \" and Heal Power: \" + str(self.get_heal_power())\n"
      ],
      "metadata": {
        "id": "N-OWQwgoAdgv"
      },
      "execution_count": null,
      "outputs": []
    },
    {
      "cell_type": "code",
      "source": [
        "import random\n",
        "def play(w1_dict, w2_dict):\n",
        "  if w1_dict[\"warrior\"] == \"red\":\n",
        "    w1 = Red(w1_dict[\"strength\"], w1_dict[\"health\"],  w1_dict[\"magic_power\"])\n",
        "  elif w1_dict[\"warrior\"] == \"blue\":\n",
        "    w1 = Blue(w1_dict[\"strength\"], w1_dict[\"health\"], w1_dict[\"heal_power\"])\n",
        "  else:\n",
        "    print(\"Unknown warrior type cannot continue\")\n",
        "    return\n",
        "  if w2_dict[\"warrior\"] == \"red\":\n",
        "    w2 = Red(w1_dict[\"strength\"], w2_dict[\"health\"],  w2_dict[\"magic_power\"])\n",
        "  elif w2_dict[\"warrior\"] == \"blue\":\n",
        "    w2 = Blue(w1_dict[\"strength\"], w2_dict[\"health\"], w2_dict[\"heal_power\"])\n",
        "  else:\n",
        "    print(\"Unknown warrior type cannot continue\")\n",
        "    return\n",
        "  while w1.is_alive() and w2.is_alive():\n",
        "    if w1.is_alive():\n",
        "      w2.defense(w1.attack())\n",
        "      print (w1, \"is attacking\")\n",
        "    if w2.is_alive():\n",
        "      print (w2, \"is attacking\")\n",
        "      w1.defense(w2.attack())\n",
        "  if w1.is_alive():\n",
        "    print(\"\\n\", w1, \"is the winner\")\n",
        "    print(w2, \"is the loser\")\n",
        "  else:\n",
        "    print(\"\\n\", w2, \"is the winner\")\n",
        "    print(w1, \"is the loser\")"
      ],
      "metadata": {
        "id": "GQ18ex5xFQjY"
      },
      "execution_count": null,
      "outputs": []
    },
    {
      "cell_type": "code",
      "execution_count": null,
      "metadata": {
        "colab": {
          "base_uri": "https://localhost:8080/"
        },
        "id": "ugSSFaGpz4KE",
        "outputId": "dc56467c-7f2c-4f90-ea61-c962d432b174"
      },
      "outputs": [
        {
          "output_type": "stream",
          "name": "stdout",
          "text": [
            "Red Warrior with Strength 50, Health: 30 and Magic Power: 20 is attacking\n",
            "Blue Warrior with Strength 50, Health: 18 and Heal Power: 15 is attacking\n",
            "Red Warrior with Strength 50, Health: 1 and Magic Power: 20 is attacking\n",
            "Blue Warrior with Strength 50, Health: 48 and Heal Power: 15 is attacking\n",
            "\n",
            " Blue Warrior with Strength 50, Health: 48 and Heal Power: 15 is the winner\n",
            "Red Warrior with Strength 50, Health: -20 and Magic Power: 20 is the loser\n"
          ]
        }
      ],
      "source": [
        "red_warrior_dict = {\"warrior\" : \"red\",  \"strength\" : 50, \"health\" : 30, \"magic_power\" : 20}\n",
        "blue_warrior_dict= {\"warrior\" : \"blue\", \"strength\" : 60, \"health\" : 25, \"heal_power\"  : 15}\n",
        "play(red_warrior_dict, blue_warrior_dict)"
      ]
    }
  ]
}